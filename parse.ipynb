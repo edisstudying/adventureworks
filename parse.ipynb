{
 "cells": [
  {
   "cell_type": "code",
   "execution_count": 1,
   "metadata": {},
   "outputs": [],
   "source": [
    "import pandas as pd\n",
    "import numpy as np\n",
    "import pymysql\n",
    "import xml.etree.ElementTree as et\n",
    "import mysql.connector"
   ]
  },
  {
   "cell_type": "code",
   "execution_count": 2,
   "metadata": {},
   "outputs": [
    {
     "name": "stderr",
     "output_type": "stream",
     "text": [
      "C:\\Users\\Chi\\.conda\\envs\\adventureworks-env\\lib\\site-packages\\pandas\\io\\sql.py:761: UserWarning: pandas only support SQLAlchemy connectable(engine/connection) ordatabase string URI or sqlite3 DBAPI2 connectionother DBAPI2 objects are not tested, please consider using SQLAlchemy\n",
      "  warnings.warn(\n"
     ]
    }
   ],
   "source": [
    "conn = pymysql.connect(host='localhost', port=int(3306),user='root',password='Eddie.21',db='adventureworks')\n",
    "contact = pd.read_sql_query(\"SELECT * FROM adventureworks.contact\", conn)"
   ]
  },
  {
   "cell_type": "code",
   "execution_count": 3,
   "metadata": {},
   "outputs": [],
   "source": [
    "def cnt(i):\n",
    "    conn = pymysql.connect(host='localhost', port=int(3306),user='root',password='Eddie.21',db='adventureworks')\n",
    "    tbl = []\n",
    "    lst = ['contact']\n",
    "    for i in range: 0\n",
    "    contact = pd.read_sql_query(\"SELECT * FROM adventureworks.[i]\", conn)\n",
    "    tbl.append(i)"
   ]
  },
  {
   "cell_type": "code",
   "execution_count": 4,
   "metadata": {},
   "outputs": [
    {
     "data": {
      "text/plain": [
       "int"
      ]
     },
     "execution_count": 4,
     "metadata": {},
     "output_type": "execute_result"
    }
   ],
   "source": [
    "z = contact['AdditionalContactInfo']\n",
    "type(len(z))"
   ]
  },
  {
   "cell_type": "code",
   "execution_count": 5,
   "metadata": {},
   "outputs": [
    {
     "ename": "TypeError",
     "evalue": "a bytes-like object is required, not 'NoneType'",
     "output_type": "error",
     "traceback": [
      "\u001b[1;31m---------------------------------------------------------------------------\u001b[0m",
      "\u001b[1;31mTypeError\u001b[0m                                 Traceback (most recent call last)",
      "\u001b[1;32mc:\\Users\\Chi\\Desktop\\satellite\\C\\adventureworks\\parse.ipynb Cell 5'\u001b[0m in \u001b[0;36m<cell line: 2>\u001b[1;34m()\u001b[0m\n\u001b[0;32m      <a href='vscode-notebook-cell:/c%3A/Users/Chi/Desktop/satellite/C/adventureworks/parse.ipynb#ch0000004?line=1'>2</a>\u001b[0m \u001b[39mfor\u001b[39;00m i \u001b[39min\u001b[39;00m \u001b[39mrange\u001b[39m(\u001b[39mlen\u001b[39m(z)):\n\u001b[0;32m      <a href='vscode-notebook-cell:/c%3A/Users/Chi/Desktop/satellite/C/adventureworks/parse.ipynb#ch0000004?line=2'>3</a>\u001b[0m     \u001b[39mint\u001b[39m(i)\n\u001b[1;32m----> <a href='vscode-notebook-cell:/c%3A/Users/Chi/Desktop/satellite/C/adventureworks/parse.ipynb#ch0000004?line=3'>4</a>\u001b[0m     root \u001b[39m=\u001b[39m et\u001b[39m.\u001b[39;49mfromstring(z[i\u001b[39m+\u001b[39;49m\u001b[39m1\u001b[39;49m])\n\u001b[0;32m      <a href='vscode-notebook-cell:/c%3A/Users/Chi/Desktop/satellite/C/adventureworks/parse.ipynb#ch0000004?line=4'>5</a>\u001b[0m     r\u001b[39m.\u001b[39mappend(root)\n\u001b[0;32m      <a href='vscode-notebook-cell:/c%3A/Users/Chi/Desktop/satellite/C/adventureworks/parse.ipynb#ch0000004?line=6'>7</a>\u001b[0m r\n",
      "File \u001b[1;32m~\\.conda\\envs\\adventureworks-env\\lib\\xml\\etree\\ElementTree.py:1349\u001b[0m, in \u001b[0;36mXML\u001b[1;34m(text, parser)\u001b[0m\n\u001b[0;32m   <a href='file:///c%3A/Users/Chi/.conda/envs/adventureworks-env/lib/xml/etree/ElementTree.py?line=1346'>1347</a>\u001b[0m \u001b[39mif\u001b[39;00m \u001b[39mnot\u001b[39;00m parser:\n\u001b[0;32m   <a href='file:///c%3A/Users/Chi/.conda/envs/adventureworks-env/lib/xml/etree/ElementTree.py?line=1347'>1348</a>\u001b[0m     parser \u001b[39m=\u001b[39m XMLParser(target\u001b[39m=\u001b[39mTreeBuilder())\n\u001b[1;32m-> <a href='file:///c%3A/Users/Chi/.conda/envs/adventureworks-env/lib/xml/etree/ElementTree.py?line=1348'>1349</a>\u001b[0m parser\u001b[39m.\u001b[39;49mfeed(text)\n\u001b[0;32m   <a href='file:///c%3A/Users/Chi/.conda/envs/adventureworks-env/lib/xml/etree/ElementTree.py?line=1349'>1350</a>\u001b[0m \u001b[39mreturn\u001b[39;00m parser\u001b[39m.\u001b[39mclose()\n",
      "\u001b[1;31mTypeError\u001b[0m: a bytes-like object is required, not 'NoneType'"
     ]
    }
   ],
   "source": [
    "r = []\n",
    "for i in range(len(z)):\n",
    "    int(i)\n",
    "    root = et.fromstring(z[i+1])\n",
    "    r.append(root)\n",
    "\n",
    "r"
   ]
  },
  {
   "cell_type": "code",
   "execution_count": null,
   "metadata": {},
   "outputs": [],
   "source": [
    "TelNum = []\n",
    "Street = []\n",
    "City = []\n",
    "StateProvince = []\n",
    "PostalCode = []\n",
    "CountryRegion = []\n",
    "Email = []\n",
    "Record = []"
   ]
  },
  {
   "cell_type": "code",
   "execution_count": null,
   "metadata": {},
   "outputs": [],
   "source": [
    "for tel in root.iter('act:number'):\n",
    "    print(tel.text)\n",
    "    print(\"step1\")\n",
    "    TelNum.append(tel.text)"
   ]
  },
  {
   "cell_type": "code",
   "execution_count": null,
   "metadata": {},
   "outputs": [],
   "source": [
    "TelNum"
   ]
  }
 ],
 "metadata": {
  "interpreter": {
   "hash": "4f5ea9eee252f39dde63355ea670e7d77f3de48b29c1a0acb895ce89f8899215"
  },
  "kernelspec": {
   "display_name": "Python 3.10.2 64-bit",
   "language": "python",
   "name": "python3"
  },
  "language_info": {
   "codemirror_mode": {
    "name": "ipython",
    "version": 3
   },
   "file_extension": ".py",
   "mimetype": "text/x-python",
   "name": "python",
   "nbconvert_exporter": "python",
   "pygments_lexer": "ipython3",
   "version": "3.10.4"
  },
  "orig_nbformat": 4
 },
 "nbformat": 4,
 "nbformat_minor": 2
}
